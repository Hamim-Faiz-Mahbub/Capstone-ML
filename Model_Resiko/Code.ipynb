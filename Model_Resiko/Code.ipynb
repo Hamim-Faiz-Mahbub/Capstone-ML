{
  "nbformat": 4,
  "nbformat_minor": 0,
  "metadata": {
    "colab": {
      "provenance": []
    },
    "kernelspec": {
      "name": "python3",
      "display_name": "Python 3"
    },
    "language_info": {
      "name": "python"
    }
  },
  "cells": [
    {
      "cell_type": "code",
      "execution_count": 17,
      "metadata": {
        "colab": {
          "base_uri": "https://localhost:8080/"
        },
        "id": "CGQGS7oq87in",
        "outputId": "43a2a387-ba9f-4c64-f8fe-a0150dc51d0b"
      },
      "outputs": [
        {
          "output_type": "stream",
          "name": "stdout",
          "text": [
            "\u001b[1m1/1\u001b[0m \u001b[32m━━━━━━━━━━━━━━━━━━━━\u001b[0m\u001b[37m\u001b[0m \u001b[1m0s\u001b[0m 59ms/step\n",
            "Probabilitas per label: [[5.5377976e-16 7.0805453e-16 5.6312793e-01 5.1587737e-01 7.6924849e-01\n",
            "  2.2707691e-10 9.9521953e-01 5.9704487e-13]]\n",
            "Prediksi biner (0/1): [[0 0 1 1 1 0 1 0]]\n",
            "Label terprediksi: ('Heart Disease', 'Hypertension', 'Kidney Disease', 'Weight Gain')\n"
          ]
        }
      ],
      "source": [
        "\n",
        "import pandas as pd\n",
        "import joblib\n",
        "from tensorflow import keras\n",
        "\n",
        "\n",
        "MODEL_PATH    = 'best_multilabel_keras_model.keras'\n",
        "SCALER_PATH   = 'scaler.joblib'\n",
        "MLB_PATH      = 'mlb_binarizer.joblib'\n",
        "FEATURES_PATH = 'feature_columns.joblib'\n",
        "\n",
        "\n",
        "def preprocess_new_data(df_raw, feature_columns, scaler):\n",
        "\n",
        "\n",
        "    df = df_raw.rename(columns={\n",
        "        'Ages': 'Usia',\n",
        "        'Gender': 'Jenis_Kelamin',\n",
        "        'Height': 'Tinggi_cm',\n",
        "        'Weight': 'Berat_kg',\n",
        "        'Protein': 'Protein_g',\n",
        "        'Sugar': 'Gula_g',\n",
        "        'Sodium': 'Sodium_mg',\n",
        "        'Calories': 'Kalori',\n",
        "        'Carbohydrates': 'Karbohidrat_g',\n",
        "        'Fiber': 'Serat_g',\n",
        "        'Fat': 'Lemak_g'\n",
        "    })\n",
        "\n",
        "\n",
        "    numeric_cols = ['Usia','Tinggi_cm','Berat_kg','Protein_g','Gula_g',\n",
        "                    'Sodium_mg','Kalori','Karbohidrat_g','Serat_g','Lemak_g']\n",
        "    categorical_cols = ['Jenis_Kelamin']\n",
        "\n",
        "\n",
        "    missing = [c for c in numeric_cols + categorical_cols if c not in df.columns]\n",
        "    if missing:\n",
        "        raise ValueError(f\"Kolom input hilang: {missing}\")\n",
        "\n",
        "\n",
        "    df[numeric_cols] = scaler.transform(df[numeric_cols])\n",
        "\n",
        "    df = pd.get_dummies(df, columns=categorical_cols, drop_first=True)\n",
        "\n",
        "    df = df.reindex(columns=feature_columns, fill_value=0)\n",
        "    return df\n",
        "\n",
        "\n",
        "if __name__ == '__main__':\n",
        "\n",
        "    model = keras.models.load_model(MODEL_PATH)\n",
        "    scaler = joblib.load(SCALER_PATH)\n",
        "    mlb = joblib.load(MLB_PATH)\n",
        "    feature_columns = joblib.load(FEATURES_PATH)\n",
        "\n",
        "\n",
        "    sample = {\n",
        "        'Ages': [50],\n",
        "        'Gender': ['Female'],\n",
        "        'Height': [165],\n",
        "        'Weight': [63],\n",
        "        'Protein': [50],\n",
        "        'Sugar': [50],\n",
        "        'Sodium': [25],\n",
        "        'Calories': [2500],\n",
        "        'Carbohydrates': [300],\n",
        "        'Fiber': [22],\n",
        "        'Fat': [70]\n",
        "    }\n",
        "    df_new = pd.DataFrame(sample)\n",
        "\n",
        "\n",
        "    X_new = preprocess_new_data(df_new, feature_columns, scaler)\n",
        "    proba = model.predict(X_new)\n",
        "    y_pred = (proba > 0.5).astype(int)\n",
        "    labels = mlb.inverse_transform(y_pred)\n",
        "\n",
        "\n",
        "    print(\"Probabilitas per label:\", proba)\n",
        "    print(\"Prediksi biner (0/1):\", y_pred)\n",
        "    print(\"Label terprediksi:\", labels[0] or ['Normal'])\n"
      ]
    }
  ]
}